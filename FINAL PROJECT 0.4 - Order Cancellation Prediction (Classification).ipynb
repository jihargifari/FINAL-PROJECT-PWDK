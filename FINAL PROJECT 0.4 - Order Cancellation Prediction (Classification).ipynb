{
 "cells": [
  {
   "cell_type": "markdown",
   "metadata": {},
   "source": [
    "# Order Cancellation Prediction\n",
    "In this Chapter, I am going to do one of a supervised learning in Machine Learning Projects. I am going to build a machine that will be able to classifies which order is going to be cancelled by the characteristics of the order itself. The benefits of this projects for business process is as follows:\n",
    "1. Help product manager to set a lower limit for general stocks based on number of cancellation predicted\n",
    "2. Reduce cost specifically in marketing and customer services in terms of time, focus, and energy.\n",
    "3. Improve Customer Services Quality\n",
    "\n",
    "Here are the steps that I took in finishing this Classification Projects :\n",
    "1. Data Cleaning\n",
    "    - Creating Target Feature : \"cancellation_list\"\n",
    "    - Create Dummies Variable for K-Means Cluster\n",
    "2. EDA (Minor)\n",
    "    - Cancellation Proportion on Datasets\n",
    "3. Model Deployment\n",
    "    - Data Preparation :\n",
    "    - Data Splitting\n",
    "    - Fitting Model with train data and Predicting Model with Test Data\n",
    "    - Model Visualization and Evaluation :\n",
    "4. Model Optimization :\n",
    "    - Handling Imbalance Data with Oversampling (SMOTE) and undersampling (NearMiss)\n",
    "    - Hyperparameter Tuning (RandomizedSearchCV)\n"
   ]
  },
  {
   "cell_type": "code",
   "execution_count": 3,
   "metadata": {},
   "outputs": [],
   "source": [
    "import pandas as pd\n",
    "import numpy as np\n",
    "import matplotlib.pyplot as plt\n",
    "import seaborn as sns"
   ]
  },
  {
   "cell_type": "code",
   "execution_count": 10,
   "metadata": {},
   "outputs": [
    {
     "data": {
      "text/html": [
       "<div>\n",
       "<style scoped>\n",
       "    .dataframe tbody tr th:only-of-type {\n",
       "        vertical-align: middle;\n",
       "    }\n",
       "\n",
       "    .dataframe tbody tr th {\n",
       "        vertical-align: top;\n",
       "    }\n",
       "\n",
       "    .dataframe thead th {\n",
       "        text-align: right;\n",
       "    }\n",
       "</style>\n",
       "<table border=\"1\" class=\"dataframe\">\n",
       "  <thead>\n",
       "    <tr style=\"text-align: right;\">\n",
       "      <th></th>\n",
       "      <th>InvoiceNo</th>\n",
       "      <th>InvoiceDate</th>\n",
       "      <th>Date</th>\n",
       "      <th>Years</th>\n",
       "      <th>Months</th>\n",
       "      <th>Days</th>\n",
       "      <th>Hours</th>\n",
       "      <th>DayOfMonth</th>\n",
       "      <th>StockCode</th>\n",
       "      <th>Description</th>\n",
       "      <th>Quantity</th>\n",
       "      <th>UnitPrice</th>\n",
       "      <th>CustomerID</th>\n",
       "      <th>Country</th>\n",
       "      <th>TotalCost</th>\n",
       "      <th>K-Means_Cluster</th>\n",
       "    </tr>\n",
       "  </thead>\n",
       "  <tbody>\n",
       "    <tr>\n",
       "      <td>0</td>\n",
       "      <td>536365</td>\n",
       "      <td>2010-12-01 08:26:00</td>\n",
       "      <td>2010-12-01</td>\n",
       "      <td>2010</td>\n",
       "      <td>12</td>\n",
       "      <td>3</td>\n",
       "      <td>8</td>\n",
       "      <td>1</td>\n",
       "      <td>85123A</td>\n",
       "      <td>WHITE HANGING HEART T-LIGHT HOLDER</td>\n",
       "      <td>6</td>\n",
       "      <td>2.55</td>\n",
       "      <td>17850</td>\n",
       "      <td>United Kingdom</td>\n",
       "      <td>15.30</td>\n",
       "      <td>Group 4</td>\n",
       "    </tr>\n",
       "    <tr>\n",
       "      <td>1</td>\n",
       "      <td>536366</td>\n",
       "      <td>2010-12-01 08:28:00</td>\n",
       "      <td>2010-12-01</td>\n",
       "      <td>2010</td>\n",
       "      <td>12</td>\n",
       "      <td>3</td>\n",
       "      <td>8</td>\n",
       "      <td>1</td>\n",
       "      <td>22633</td>\n",
       "      <td>HAND WARMER UNION JACK</td>\n",
       "      <td>6</td>\n",
       "      <td>1.85</td>\n",
       "      <td>17850</td>\n",
       "      <td>United Kingdom</td>\n",
       "      <td>11.10</td>\n",
       "      <td>Group 4</td>\n",
       "    </tr>\n",
       "    <tr>\n",
       "      <td>2</td>\n",
       "      <td>536367</td>\n",
       "      <td>2010-12-01 08:34:00</td>\n",
       "      <td>2010-12-01</td>\n",
       "      <td>2010</td>\n",
       "      <td>12</td>\n",
       "      <td>3</td>\n",
       "      <td>8</td>\n",
       "      <td>1</td>\n",
       "      <td>84879</td>\n",
       "      <td>ASSORTED COLOUR BIRD ORNAMENT</td>\n",
       "      <td>32</td>\n",
       "      <td>1.69</td>\n",
       "      <td>13047</td>\n",
       "      <td>United Kingdom</td>\n",
       "      <td>54.08</td>\n",
       "      <td>Group 4</td>\n",
       "    </tr>\n",
       "    <tr>\n",
       "      <td>3</td>\n",
       "      <td>536368</td>\n",
       "      <td>2010-12-01 08:34:00</td>\n",
       "      <td>2010-12-01</td>\n",
       "      <td>2010</td>\n",
       "      <td>12</td>\n",
       "      <td>3</td>\n",
       "      <td>8</td>\n",
       "      <td>1</td>\n",
       "      <td>22960</td>\n",
       "      <td>JAM MAKING SET WITH JARS</td>\n",
       "      <td>6</td>\n",
       "      <td>4.25</td>\n",
       "      <td>13047</td>\n",
       "      <td>United Kingdom</td>\n",
       "      <td>25.50</td>\n",
       "      <td>Group 4</td>\n",
       "    </tr>\n",
       "    <tr>\n",
       "      <td>4</td>\n",
       "      <td>536369</td>\n",
       "      <td>2010-12-01 08:35:00</td>\n",
       "      <td>2010-12-01</td>\n",
       "      <td>2010</td>\n",
       "      <td>12</td>\n",
       "      <td>3</td>\n",
       "      <td>8</td>\n",
       "      <td>1</td>\n",
       "      <td>21756</td>\n",
       "      <td>BATH BUILDING BLOCK WORD</td>\n",
       "      <td>3</td>\n",
       "      <td>5.95</td>\n",
       "      <td>13047</td>\n",
       "      <td>United Kingdom</td>\n",
       "      <td>17.85</td>\n",
       "      <td>Group 4</td>\n",
       "    </tr>\n",
       "  </tbody>\n",
       "</table>\n",
       "</div>"
      ],
      "text/plain": [
       "  InvoiceNo          InvoiceDate        Date  Years  Months  Days  Hours  \\\n",
       "0    536365  2010-12-01 08:26:00  2010-12-01   2010      12     3      8   \n",
       "1    536366  2010-12-01 08:28:00  2010-12-01   2010      12     3      8   \n",
       "2    536367  2010-12-01 08:34:00  2010-12-01   2010      12     3      8   \n",
       "3    536368  2010-12-01 08:34:00  2010-12-01   2010      12     3      8   \n",
       "4    536369  2010-12-01 08:35:00  2010-12-01   2010      12     3      8   \n",
       "\n",
       "   DayOfMonth StockCode                         Description  Quantity  \\\n",
       "0           1    85123A  WHITE HANGING HEART T-LIGHT HOLDER         6   \n",
       "1           1     22633              HAND WARMER UNION JACK         6   \n",
       "2           1     84879       ASSORTED COLOUR BIRD ORNAMENT        32   \n",
       "3           1     22960            JAM MAKING SET WITH JARS         6   \n",
       "4           1     21756            BATH BUILDING BLOCK WORD         3   \n",
       "\n",
       "   UnitPrice  CustomerID         Country  TotalCost K-Means_Cluster  \n",
       "0       2.55       17850  United Kingdom      15.30         Group 4  \n",
       "1       1.85       17850  United Kingdom      11.10         Group 4  \n",
       "2       1.69       13047  United Kingdom      54.08         Group 4  \n",
       "3       4.25       13047  United Kingdom      25.50         Group 4  \n",
       "4       5.95       13047  United Kingdom      17.85         Group 4  "
      ]
     },
     "execution_count": 10,
     "metadata": {},
     "output_type": "execute_result"
    }
   ],
   "source": [
    "data = pd.read_csv(\"E-commerce_data_after_clustering.csv\")\n",
    "data.head()"
   ]
  },
  {
   "cell_type": "markdown",
   "metadata": {},
   "source": [
    "## Section 1 : Data Cleaning"
   ]
  },
  {
   "cell_type": "code",
   "execution_count": 11,
   "metadata": {
    "scrolled": false
   },
   "outputs": [
    {
     "name": "stdout",
     "output_type": "stream",
     "text": [
      "<class 'pandas.core.frame.DataFrame'>\n",
      "RangeIndex: 22190 entries, 0 to 22189\n",
      "Data columns (total 16 columns):\n",
      "InvoiceNo          22190 non-null object\n",
      "InvoiceDate        22190 non-null object\n",
      "Date               22190 non-null object\n",
      "Years              22190 non-null int64\n",
      "Months             22190 non-null int64\n",
      "Days               22190 non-null int64\n",
      "Hours              22190 non-null int64\n",
      "DayOfMonth         22190 non-null int64\n",
      "StockCode          22190 non-null object\n",
      "Description        22190 non-null object\n",
      "Quantity           22190 non-null int64\n",
      "UnitPrice          22190 non-null float64\n",
      "CustomerID         22190 non-null int64\n",
      "Country            22190 non-null object\n",
      "TotalCost          22190 non-null float64\n",
      "K-Means_Cluster    22190 non-null object\n",
      "dtypes: float64(2), int64(7), object(7)\n",
      "memory usage: 2.7+ MB\n"
     ]
    }
   ],
   "source": [
    "data.info()"
   ]
  },
  {
   "cell_type": "code",
   "execution_count": 12,
   "metadata": {},
   "outputs": [
    {
     "data": {
      "text/html": [
       "<div>\n",
       "<style scoped>\n",
       "    .dataframe tbody tr th:only-of-type {\n",
       "        vertical-align: middle;\n",
       "    }\n",
       "\n",
       "    .dataframe tbody tr th {\n",
       "        vertical-align: top;\n",
       "    }\n",
       "\n",
       "    .dataframe thead th {\n",
       "        text-align: right;\n",
       "    }\n",
       "</style>\n",
       "<table border=\"1\" class=\"dataframe\">\n",
       "  <thead>\n",
       "    <tr style=\"text-align: right;\">\n",
       "      <th></th>\n",
       "      <th>InvoiceNo</th>\n",
       "      <th>InvoiceDate</th>\n",
       "      <th>Date</th>\n",
       "      <th>Years</th>\n",
       "      <th>Months</th>\n",
       "      <th>Days</th>\n",
       "      <th>Hours</th>\n",
       "      <th>DayOfMonth</th>\n",
       "      <th>StockCode</th>\n",
       "      <th>Description</th>\n",
       "      <th>Quantity</th>\n",
       "      <th>UnitPrice</th>\n",
       "      <th>CustomerID</th>\n",
       "      <th>Country</th>\n",
       "      <th>TotalCost</th>\n",
       "      <th>K-Means_Cluster</th>\n",
       "    </tr>\n",
       "  </thead>\n",
       "  <tbody>\n",
       "    <tr>\n",
       "      <td>0</td>\n",
       "      <td>536365</td>\n",
       "      <td>2010-12-01 08:26:00</td>\n",
       "      <td>2010-12-01</td>\n",
       "      <td>2010</td>\n",
       "      <td>12</td>\n",
       "      <td>3</td>\n",
       "      <td>8</td>\n",
       "      <td>1</td>\n",
       "      <td>85123A</td>\n",
       "      <td>WHITE HANGING HEART T-LIGHT HOLDER</td>\n",
       "      <td>6</td>\n",
       "      <td>2.55</td>\n",
       "      <td>17850</td>\n",
       "      <td>United Kingdom</td>\n",
       "      <td>15.30</td>\n",
       "      <td>Group 4</td>\n",
       "    </tr>\n",
       "    <tr>\n",
       "      <td>1</td>\n",
       "      <td>536366</td>\n",
       "      <td>2010-12-01 08:28:00</td>\n",
       "      <td>2010-12-01</td>\n",
       "      <td>2010</td>\n",
       "      <td>12</td>\n",
       "      <td>3</td>\n",
       "      <td>8</td>\n",
       "      <td>1</td>\n",
       "      <td>22633</td>\n",
       "      <td>HAND WARMER UNION JACK</td>\n",
       "      <td>6</td>\n",
       "      <td>1.85</td>\n",
       "      <td>17850</td>\n",
       "      <td>United Kingdom</td>\n",
       "      <td>11.10</td>\n",
       "      <td>Group 4</td>\n",
       "    </tr>\n",
       "    <tr>\n",
       "      <td>2</td>\n",
       "      <td>536367</td>\n",
       "      <td>2010-12-01 08:34:00</td>\n",
       "      <td>2010-12-01</td>\n",
       "      <td>2010</td>\n",
       "      <td>12</td>\n",
       "      <td>3</td>\n",
       "      <td>8</td>\n",
       "      <td>1</td>\n",
       "      <td>84879</td>\n",
       "      <td>ASSORTED COLOUR BIRD ORNAMENT</td>\n",
       "      <td>32</td>\n",
       "      <td>1.69</td>\n",
       "      <td>13047</td>\n",
       "      <td>United Kingdom</td>\n",
       "      <td>54.08</td>\n",
       "      <td>Group 4</td>\n",
       "    </tr>\n",
       "  </tbody>\n",
       "</table>\n",
       "</div>"
      ],
      "text/plain": [
       "  InvoiceNo          InvoiceDate        Date  Years  Months  Days  Hours  \\\n",
       "0    536365  2010-12-01 08:26:00  2010-12-01   2010      12     3      8   \n",
       "1    536366  2010-12-01 08:28:00  2010-12-01   2010      12     3      8   \n",
       "2    536367  2010-12-01 08:34:00  2010-12-01   2010      12     3      8   \n",
       "\n",
       "   DayOfMonth StockCode                         Description  Quantity  \\\n",
       "0           1    85123A  WHITE HANGING HEART T-LIGHT HOLDER         6   \n",
       "1           1     22633              HAND WARMER UNION JACK         6   \n",
       "2           1     84879       ASSORTED COLOUR BIRD ORNAMENT        32   \n",
       "\n",
       "   UnitPrice  CustomerID         Country  TotalCost K-Means_Cluster  \n",
       "0       2.55       17850  United Kingdom      15.30         Group 4  \n",
       "1       1.85       17850  United Kingdom      11.10         Group 4  \n",
       "2       1.69       13047  United Kingdom      54.08         Group 4  "
      ]
     },
     "execution_count": 12,
     "metadata": {},
     "output_type": "execute_result"
    }
   ],
   "source": [
    "data.head(3)"
   ]
  },
  {
   "cell_type": "markdown",
   "metadata": {},
   "source": [
    "### Cleaning 01 : Creating Target Feature : \"cancellation_list\""
   ]
  },
  {
   "cell_type": "code",
   "execution_count": 13,
   "metadata": {
    "scrolled": true
   },
   "outputs": [
    {
     "data": {
      "text/html": [
       "<div>\n",
       "<style scoped>\n",
       "    .dataframe tbody tr th:only-of-type {\n",
       "        vertical-align: middle;\n",
       "    }\n",
       "\n",
       "    .dataframe tbody tr th {\n",
       "        vertical-align: top;\n",
       "    }\n",
       "\n",
       "    .dataframe thead th {\n",
       "        text-align: right;\n",
       "    }\n",
       "</style>\n",
       "<table border=\"1\" class=\"dataframe\">\n",
       "  <thead>\n",
       "    <tr style=\"text-align: right;\">\n",
       "      <th></th>\n",
       "      <th>InvoiceNo</th>\n",
       "      <th>InvoiceDate</th>\n",
       "      <th>Date</th>\n",
       "      <th>Years</th>\n",
       "      <th>Months</th>\n",
       "      <th>Days</th>\n",
       "      <th>Hours</th>\n",
       "      <th>DayOfMonth</th>\n",
       "      <th>StockCode</th>\n",
       "      <th>Description</th>\n",
       "      <th>Quantity</th>\n",
       "      <th>UnitPrice</th>\n",
       "      <th>CustomerID</th>\n",
       "      <th>Country</th>\n",
       "      <th>TotalCost</th>\n",
       "      <th>K-Means_Cluster</th>\n",
       "      <th>cancellation_list</th>\n",
       "    </tr>\n",
       "  </thead>\n",
       "  <tbody>\n",
       "    <tr>\n",
       "      <td>0</td>\n",
       "      <td>536365</td>\n",
       "      <td>2010-12-01 08:26:00</td>\n",
       "      <td>2010-12-01</td>\n",
       "      <td>2010</td>\n",
       "      <td>12</td>\n",
       "      <td>3</td>\n",
       "      <td>8</td>\n",
       "      <td>1</td>\n",
       "      <td>85123A</td>\n",
       "      <td>WHITE HANGING HEART T-LIGHT HOLDER</td>\n",
       "      <td>6</td>\n",
       "      <td>2.55</td>\n",
       "      <td>17850</td>\n",
       "      <td>United Kingdom</td>\n",
       "      <td>15.30</td>\n",
       "      <td>Group 4</td>\n",
       "      <td>0</td>\n",
       "    </tr>\n",
       "    <tr>\n",
       "      <td>1</td>\n",
       "      <td>536366</td>\n",
       "      <td>2010-12-01 08:28:00</td>\n",
       "      <td>2010-12-01</td>\n",
       "      <td>2010</td>\n",
       "      <td>12</td>\n",
       "      <td>3</td>\n",
       "      <td>8</td>\n",
       "      <td>1</td>\n",
       "      <td>22633</td>\n",
       "      <td>HAND WARMER UNION JACK</td>\n",
       "      <td>6</td>\n",
       "      <td>1.85</td>\n",
       "      <td>17850</td>\n",
       "      <td>United Kingdom</td>\n",
       "      <td>11.10</td>\n",
       "      <td>Group 4</td>\n",
       "      <td>0</td>\n",
       "    </tr>\n",
       "    <tr>\n",
       "      <td>2</td>\n",
       "      <td>536367</td>\n",
       "      <td>2010-12-01 08:34:00</td>\n",
       "      <td>2010-12-01</td>\n",
       "      <td>2010</td>\n",
       "      <td>12</td>\n",
       "      <td>3</td>\n",
       "      <td>8</td>\n",
       "      <td>1</td>\n",
       "      <td>84879</td>\n",
       "      <td>ASSORTED COLOUR BIRD ORNAMENT</td>\n",
       "      <td>32</td>\n",
       "      <td>1.69</td>\n",
       "      <td>13047</td>\n",
       "      <td>United Kingdom</td>\n",
       "      <td>54.08</td>\n",
       "      <td>Group 4</td>\n",
       "      <td>0</td>\n",
       "    </tr>\n",
       "  </tbody>\n",
       "</table>\n",
       "</div>"
      ],
      "text/plain": [
       "  InvoiceNo          InvoiceDate        Date  Years  Months  Days  Hours  \\\n",
       "0    536365  2010-12-01 08:26:00  2010-12-01   2010      12     3      8   \n",
       "1    536366  2010-12-01 08:28:00  2010-12-01   2010      12     3      8   \n",
       "2    536367  2010-12-01 08:34:00  2010-12-01   2010      12     3      8   \n",
       "\n",
       "   DayOfMonth StockCode                         Description  Quantity  \\\n",
       "0           1    85123A  WHITE HANGING HEART T-LIGHT HOLDER         6   \n",
       "1           1     22633              HAND WARMER UNION JACK         6   \n",
       "2           1     84879       ASSORTED COLOUR BIRD ORNAMENT        32   \n",
       "\n",
       "   UnitPrice  CustomerID         Country  TotalCost K-Means_Cluster  \\\n",
       "0       2.55       17850  United Kingdom      15.30         Group 4   \n",
       "1       1.85       17850  United Kingdom      11.10         Group 4   \n",
       "2       1.69       13047  United Kingdom      54.08         Group 4   \n",
       "\n",
       "   cancellation_list  \n",
       "0                  0  \n",
       "1                  0  \n",
       "2                  0  "
      ]
     },
     "execution_count": 13,
     "metadata": {},
     "output_type": "execute_result"
    }
   ],
   "source": [
    "cancellation_list = []\n",
    "for i in data['InvoiceNo'] :\n",
    "    if \"C\" in i :\n",
    "        cancellation_list.append(1)\n",
    "    else :\n",
    "        cancellation_list.append(0)\n",
    "data['cancellation_list'] = cancellation_list\n",
    "data.head(3)"
   ]
  },
  {
   "cell_type": "markdown",
   "metadata": {},
   "source": [
    "### Cleaning 02 : Create Dummies Variable for K-Means Cluster"
   ]
  },
  {
   "cell_type": "code",
   "execution_count": 14,
   "metadata": {
    "scrolled": false
   },
   "outputs": [
    {
     "data": {
      "text/html": [
       "<div>\n",
       "<style scoped>\n",
       "    .dataframe tbody tr th:only-of-type {\n",
       "        vertical-align: middle;\n",
       "    }\n",
       "\n",
       "    .dataframe tbody tr th {\n",
       "        vertical-align: top;\n",
       "    }\n",
       "\n",
       "    .dataframe thead th {\n",
       "        text-align: right;\n",
       "    }\n",
       "</style>\n",
       "<table border=\"1\" class=\"dataframe\">\n",
       "  <thead>\n",
       "    <tr style=\"text-align: right;\">\n",
       "      <th></th>\n",
       "      <th>InvoiceNo</th>\n",
       "      <th>InvoiceDate</th>\n",
       "      <th>Date</th>\n",
       "      <th>Years</th>\n",
       "      <th>Months</th>\n",
       "      <th>Days</th>\n",
       "      <th>Hours</th>\n",
       "      <th>DayOfMonth</th>\n",
       "      <th>StockCode</th>\n",
       "      <th>Description</th>\n",
       "      <th>...</th>\n",
       "      <th>CustomerID</th>\n",
       "      <th>Country</th>\n",
       "      <th>TotalCost</th>\n",
       "      <th>K-Means_Cluster</th>\n",
       "      <th>cancellation_list</th>\n",
       "      <th>Cluster_Group 1</th>\n",
       "      <th>Cluster_Group 2</th>\n",
       "      <th>Cluster_Group 3</th>\n",
       "      <th>Cluster_Group 4</th>\n",
       "      <th>Cluster_Outlier</th>\n",
       "    </tr>\n",
       "  </thead>\n",
       "  <tbody>\n",
       "    <tr>\n",
       "      <td>0</td>\n",
       "      <td>536365</td>\n",
       "      <td>2010-12-01 08:26:00</td>\n",
       "      <td>2010-12-01</td>\n",
       "      <td>2010</td>\n",
       "      <td>12</td>\n",
       "      <td>3</td>\n",
       "      <td>8</td>\n",
       "      <td>1</td>\n",
       "      <td>85123A</td>\n",
       "      <td>WHITE HANGING HEART T-LIGHT HOLDER</td>\n",
       "      <td>...</td>\n",
       "      <td>17850</td>\n",
       "      <td>United Kingdom</td>\n",
       "      <td>15.30</td>\n",
       "      <td>Group 4</td>\n",
       "      <td>0</td>\n",
       "      <td>0</td>\n",
       "      <td>0</td>\n",
       "      <td>0</td>\n",
       "      <td>1</td>\n",
       "      <td>0</td>\n",
       "    </tr>\n",
       "    <tr>\n",
       "      <td>1</td>\n",
       "      <td>536366</td>\n",
       "      <td>2010-12-01 08:28:00</td>\n",
       "      <td>2010-12-01</td>\n",
       "      <td>2010</td>\n",
       "      <td>12</td>\n",
       "      <td>3</td>\n",
       "      <td>8</td>\n",
       "      <td>1</td>\n",
       "      <td>22633</td>\n",
       "      <td>HAND WARMER UNION JACK</td>\n",
       "      <td>...</td>\n",
       "      <td>17850</td>\n",
       "      <td>United Kingdom</td>\n",
       "      <td>11.10</td>\n",
       "      <td>Group 4</td>\n",
       "      <td>0</td>\n",
       "      <td>0</td>\n",
       "      <td>0</td>\n",
       "      <td>0</td>\n",
       "      <td>1</td>\n",
       "      <td>0</td>\n",
       "    </tr>\n",
       "    <tr>\n",
       "      <td>2</td>\n",
       "      <td>536367</td>\n",
       "      <td>2010-12-01 08:34:00</td>\n",
       "      <td>2010-12-01</td>\n",
       "      <td>2010</td>\n",
       "      <td>12</td>\n",
       "      <td>3</td>\n",
       "      <td>8</td>\n",
       "      <td>1</td>\n",
       "      <td>84879</td>\n",
       "      <td>ASSORTED COLOUR BIRD ORNAMENT</td>\n",
       "      <td>...</td>\n",
       "      <td>13047</td>\n",
       "      <td>United Kingdom</td>\n",
       "      <td>54.08</td>\n",
       "      <td>Group 4</td>\n",
       "      <td>0</td>\n",
       "      <td>0</td>\n",
       "      <td>0</td>\n",
       "      <td>0</td>\n",
       "      <td>1</td>\n",
       "      <td>0</td>\n",
       "    </tr>\n",
       "  </tbody>\n",
       "</table>\n",
       "<p>3 rows × 22 columns</p>\n",
       "</div>"
      ],
      "text/plain": [
       "  InvoiceNo          InvoiceDate        Date  Years  Months  Days  Hours  \\\n",
       "0    536365  2010-12-01 08:26:00  2010-12-01   2010      12     3      8   \n",
       "1    536366  2010-12-01 08:28:00  2010-12-01   2010      12     3      8   \n",
       "2    536367  2010-12-01 08:34:00  2010-12-01   2010      12     3      8   \n",
       "\n",
       "   DayOfMonth StockCode                         Description  ...  CustomerID  \\\n",
       "0           1    85123A  WHITE HANGING HEART T-LIGHT HOLDER  ...       17850   \n",
       "1           1     22633              HAND WARMER UNION JACK  ...       17850   \n",
       "2           1     84879       ASSORTED COLOUR BIRD ORNAMENT  ...       13047   \n",
       "\n",
       "          Country  TotalCost K-Means_Cluster  cancellation_list  \\\n",
       "0  United Kingdom      15.30         Group 4                  0   \n",
       "1  United Kingdom      11.10         Group 4                  0   \n",
       "2  United Kingdom      54.08         Group 4                  0   \n",
       "\n",
       "  Cluster_Group 1  Cluster_Group 2  Cluster_Group 3  Cluster_Group 4  \\\n",
       "0               0                0                0                1   \n",
       "1               0                0                0                1   \n",
       "2               0                0                0                1   \n",
       "\n",
       "   Cluster_Outlier  \n",
       "0                0  \n",
       "1                0  \n",
       "2                0  \n",
       "\n",
       "[3 rows x 22 columns]"
      ]
     },
     "execution_count": 14,
     "metadata": {},
     "output_type": "execute_result"
    }
   ],
   "source": [
    "cluster_dummies = pd.get_dummies(data['K-Means_Cluster'], prefix = 'Cluster')\n",
    "frames = [data, cluster_dummies]\n",
    "data_pred = pd.concat(frames, axis=1)\n",
    "data_pred.head(3)"
   ]
  },
  {
   "cell_type": "markdown",
   "metadata": {},
   "source": [
    "## Section 2 :  Minor EDA"
   ]
  },
  {
   "cell_type": "code",
   "execution_count": 15,
   "metadata": {
    "scrolled": false
   },
   "outputs": [
    {
     "data": {
      "image/png": "[encoded data removed]",
      "text/plain": [
       "<Figure size 432x288 with 1 Axes>"
      ]
     },
     "metadata": {
      "needs_background": "light"
     },
     "output_type": "display_data"
    }
   ],
   "source": [
    "sns.countplot(x='cancellation_list', data = data, palette='bwr')\n",
    "plt.show()"
   ]
  },
  {
   "cell_type": "markdown",
   "metadata": {},
   "source": [
    "**DESCRIPTION :** \n",
    "\n",
    "0 : Not Cancel\n",
    "\n",
    "1 : Cancel\n",
    "\n",
    "It seems that there is an imbalance issues, but let's try the conventional way and see the result, I will do Imbalance Handling if the model performance is bad"
   ]
  },
  {
   "cell_type": "code",
   "execution_count": 16,
   "metadata": {
    "scrolled": true
   },
   "outputs": [
    {
     "name": "stdout",
     "output_type": "stream",
     "text": [
      "percentage of not-cancelled Order : 83.53%\n",
      "percentage of cancelled order : 16.47%\n"
     ]
    }
   ],
   "source": [
    "countNoCancel = len(data[data['cancellation_list'] == 0])\n",
    "countCancel = len(data[data['cancellation_list'] == 1])\n",
    "print(\"percentage of not-cancelled Order : {:.2f}%\".format((countNoCancel / (len(data['cancellation_list']))*100)))\n",
    "print(\"percentage of cancelled order : {:.2f}%\".format((countCancel / (len(data['cancellation_list']))*100)))"
   ]
  },
  {
   "cell_type": "code",
   "execution_count": 17,
   "metadata": {},
   "outputs": [
    {
     "data": {
      "text/plain": [
       "3654"
      ]
     },
     "execution_count": 17,
     "metadata": {},
     "output_type": "execute_result"
    }
   ],
   "source": [
    "countCancel"
   ]
  },
  {
   "cell_type": "code",
   "execution_count": 18,
   "metadata": {
    "scrolled": false
   },
   "outputs": [
    {
     "data": {
      "text/plain": [
       "Index(['InvoiceNo', 'InvoiceDate', 'Date', 'Years', 'Months', 'Days', 'Hours',\n",
       "       'DayOfMonth', 'StockCode', 'Description', 'Quantity', 'UnitPrice',\n",
       "       'CustomerID', 'Country', 'TotalCost', 'K-Means_Cluster',\n",
       "       'cancellation_list', 'Cluster_Group 1', 'Cluster_Group 2',\n",
       "       'Cluster_Group 3', 'Cluster_Group 4', 'Cluster_Outlier'],\n",
       "      dtype='object')"
      ]
     },
     "execution_count": 18,
     "metadata": {},
     "output_type": "execute_result"
    }
   ],
   "source": [
    "data_pred.columns"
   ]
  },
  {
   "cell_type": "markdown",
   "metadata": {},
   "source": [
    "## Section 3 : Model Deployment\n",
    "Here are the key step that i took in Model Deployment:\n",
    "1. Data Preparation :\n",
    "    - data_pred_full : using all numerical data from the dataset\n",
    "    - data_pred : using all numerical data from dataset except for Quantity and Total Cost (because these feature causes overfitting later on in the projects.\n",
    "2. Data Splitting\n",
    "    - Splitting Feature and Target Variable\n",
    "    - Splitting train and test dataset\n",
    "3. Fitting Model with train data and Predicting Model with Test Data\n",
    "    - In this Model Fitting i am using RandomForestClassifier\n",
    "4. Model Visualization and Evaluation :\n",
    "    - Confusion Matrix\n",
    "    - Classification Report\n",
    "5. Model Selection"
   ]
  },
  {
   "cell_type": "markdown",
   "metadata": {},
   "source": [
    "### 1. Data Preparation"
   ]
  },
  {
   "cell_type": "code",
   "execution_count": 19,
   "metadata": {},
   "outputs": [
    {
     "data": {
      "text/html": [
       "<div>\n",
       "<style scoped>\n",
       "    .dataframe tbody tr th:only-of-type {\n",
       "        vertical-align: middle;\n",
       "    }\n",
       "\n",
       "    .dataframe tbody tr th {\n",
       "        vertical-align: top;\n",
       "    }\n",
       "\n",
       "    .dataframe thead th {\n",
       "        text-align: right;\n",
       "    }\n",
       "</style>\n",
       "<table border=\"1\" class=\"dataframe\">\n",
       "  <thead>\n",
       "    <tr style=\"text-align: right;\">\n",
       "      <th></th>\n",
       "      <th>cancellation_list</th>\n",
       "      <th>Months</th>\n",
       "      <th>Days</th>\n",
       "      <th>Hours</th>\n",
       "      <th>DayOfMonth</th>\n",
       "      <th>UnitPrice</th>\n",
       "      <th>Quantity</th>\n",
       "      <th>TotalCost</th>\n",
       "      <th>Cluster_Group 1</th>\n",
       "      <th>Cluster_Group 2</th>\n",
       "      <th>Cluster_Group 3</th>\n",
       "      <th>Cluster_Group 4</th>\n",
       "    </tr>\n",
       "  </thead>\n",
       "  <tbody>\n",
       "    <tr>\n",
       "      <td>0</td>\n",
       "      <td>0</td>\n",
       "      <td>12</td>\n",
       "      <td>3</td>\n",
       "      <td>8</td>\n",
       "      <td>1</td>\n",
       "      <td>2.55</td>\n",
       "      <td>6</td>\n",
       "      <td>15.30</td>\n",
       "      <td>0</td>\n",
       "      <td>0</td>\n",
       "      <td>0</td>\n",
       "      <td>1</td>\n",
       "    </tr>\n",
       "    <tr>\n",
       "      <td>1</td>\n",
       "      <td>0</td>\n",
       "      <td>12</td>\n",
       "      <td>3</td>\n",
       "      <td>8</td>\n",
       "      <td>1</td>\n",
       "      <td>1.85</td>\n",
       "      <td>6</td>\n",
       "      <td>11.10</td>\n",
       "      <td>0</td>\n",
       "      <td>0</td>\n",
       "      <td>0</td>\n",
       "      <td>1</td>\n",
       "    </tr>\n",
       "    <tr>\n",
       "      <td>2</td>\n",
       "      <td>0</td>\n",
       "      <td>12</td>\n",
       "      <td>3</td>\n",
       "      <td>8</td>\n",
       "      <td>1</td>\n",
       "      <td>1.69</td>\n",
       "      <td>32</td>\n",
       "      <td>54.08</td>\n",
       "      <td>0</td>\n",
       "      <td>0</td>\n",
       "      <td>0</td>\n",
       "      <td>1</td>\n",
       "    </tr>\n",
       "    <tr>\n",
       "      <td>3</td>\n",
       "      <td>0</td>\n",
       "      <td>12</td>\n",
       "      <td>3</td>\n",
       "      <td>8</td>\n",
       "      <td>1</td>\n",
       "      <td>4.25</td>\n",
       "      <td>6</td>\n",
       "      <td>25.50</td>\n",
       "      <td>0</td>\n",
       "      <td>0</td>\n",
       "      <td>0</td>\n",
       "      <td>1</td>\n",
       "    </tr>\n",
       "    <tr>\n",
       "      <td>4</td>\n",
       "      <td>0</td>\n",
       "      <td>12</td>\n",
       "      <td>3</td>\n",
       "      <td>8</td>\n",
       "      <td>1</td>\n",
       "      <td>5.95</td>\n",
       "      <td>3</td>\n",
       "      <td>17.85</td>\n",
       "      <td>0</td>\n",
       "      <td>0</td>\n",
       "      <td>0</td>\n",
       "      <td>1</td>\n",
       "    </tr>\n",
       "  </tbody>\n",
       "</table>\n",
       "</div>"
      ],
      "text/plain": [
       "   cancellation_list  Months  Days  Hours  DayOfMonth  UnitPrice  Quantity  \\\n",
       "0                  0      12     3      8           1       2.55         6   \n",
       "1                  0      12     3      8           1       1.85         6   \n",
       "2                  0      12     3      8           1       1.69        32   \n",
       "3                  0      12     3      8           1       4.25         6   \n",
       "4                  0      12     3      8           1       5.95         3   \n",
       "\n",
       "   TotalCost  Cluster_Group 1  Cluster_Group 2  Cluster_Group 3  \\\n",
       "0      15.30                0                0                0   \n",
       "1      11.10                0                0                0   \n",
       "2      54.08                0                0                0   \n",
       "3      25.50                0                0                0   \n",
       "4      17.85                0                0                0   \n",
       "\n",
       "   Cluster_Group 4  \n",
       "0                1  \n",
       "1                1  \n",
       "2                1  \n",
       "3                1  \n",
       "4                1  "
      ]
     },
     "execution_count": 19,
     "metadata": {},
     "output_type": "execute_result"
    }
   ],
   "source": [
    "#data_pred_full : all numerical data from the dataset\n",
    "data_pred_full = data_pred[['cancellation_list','Months', 'Days', 'Hours', 'DayOfMonth',\n",
    "                       'UnitPrice','Quantity','TotalCost','Cluster_Group 1', 'Cluster_Group 2', \n",
    "                       'Cluster_Group 3', 'Cluster_Group 4']]\n",
    "data_pred_full.head()"
   ]
  },
  {
   "cell_type": "code",
   "execution_count": 20,
   "metadata": {
    "scrolled": true
   },
   "outputs": [
    {
     "data": {
      "text/html": [
       "<div>\n",
       "<style scoped>\n",
       "    .dataframe tbody tr th:only-of-type {\n",
       "        vertical-align: middle;\n",
       "    }\n",
       "\n",
       "    .dataframe tbody tr th {\n",
       "        vertical-align: top;\n",
       "    }\n",
       "\n",
       "    .dataframe thead th {\n",
       "        text-align: right;\n",
       "    }\n",
       "</style>\n",
       "<table border=\"1\" class=\"dataframe\">\n",
       "  <thead>\n",
       "    <tr style=\"text-align: right;\">\n",
       "      <th></th>\n",
       "      <th>cancellation_list</th>\n",
       "      <th>Months</th>\n",
       "      <th>Days</th>\n",
       "      <th>Hours</th>\n",
       "      <th>DayOfMonth</th>\n",
       "      <th>UnitPrice</th>\n",
       "      <th>Cluster_Group 1</th>\n",
       "      <th>Cluster_Group 2</th>\n",
       "      <th>Cluster_Group 3</th>\n",
       "      <th>Cluster_Group 4</th>\n",
       "    </tr>\n",
       "  </thead>\n",
       "  <tbody>\n",
       "    <tr>\n",
       "      <td>0</td>\n",
       "      <td>0</td>\n",
       "      <td>12</td>\n",
       "      <td>3</td>\n",
       "      <td>8</td>\n",
       "      <td>1</td>\n",
       "      <td>2.55</td>\n",
       "      <td>0</td>\n",
       "      <td>0</td>\n",
       "      <td>0</td>\n",
       "      <td>1</td>\n",
       "    </tr>\n",
       "    <tr>\n",
       "      <td>1</td>\n",
       "      <td>0</td>\n",
       "      <td>12</td>\n",
       "      <td>3</td>\n",
       "      <td>8</td>\n",
       "      <td>1</td>\n",
       "      <td>1.85</td>\n",
       "      <td>0</td>\n",
       "      <td>0</td>\n",
       "      <td>0</td>\n",
       "      <td>1</td>\n",
       "    </tr>\n",
       "    <tr>\n",
       "      <td>2</td>\n",
       "      <td>0</td>\n",
       "      <td>12</td>\n",
       "      <td>3</td>\n",
       "      <td>8</td>\n",
       "      <td>1</td>\n",
       "      <td>1.69</td>\n",
       "      <td>0</td>\n",
       "      <td>0</td>\n",
       "      <td>0</td>\n",
       "      <td>1</td>\n",
       "    </tr>\n",
       "    <tr>\n",
       "      <td>3</td>\n",
       "      <td>0</td>\n",
       "      <td>12</td>\n",
       "      <td>3</td>\n",
       "      <td>8</td>\n",
       "      <td>1</td>\n",
       "      <td>4.25</td>\n",
       "      <td>0</td>\n",
       "      <td>0</td>\n",
       "      <td>0</td>\n",
       "      <td>1</td>\n",
       "    </tr>\n",
       "    <tr>\n",
       "      <td>4</td>\n",
       "      <td>0</td>\n",
       "      <td>12</td>\n",
       "      <td>3</td>\n",
       "      <td>8</td>\n",
       "      <td>1</td>\n",
       "      <td>5.95</td>\n",
       "      <td>0</td>\n",
       "      <td>0</td>\n",
       "      <td>0</td>\n",
       "      <td>1</td>\n",
       "    </tr>\n",
       "  </tbody>\n",
       "</table>\n",
       "</div>"
      ],
      "text/plain": [
       "   cancellation_list  Months  Days  Hours  DayOfMonth  UnitPrice  \\\n",
       "0                  0      12     3      8           1       2.55   \n",
       "1                  0      12     3      8           1       1.85   \n",
       "2                  0      12     3      8           1       1.69   \n",
       "3                  0      12     3      8           1       4.25   \n",
       "4                  0      12     3      8           1       5.95   \n",
       "\n",
       "   Cluster_Group 1  Cluster_Group 2  Cluster_Group 3  Cluster_Group 4  \n",
       "0                0                0                0                1  \n",
       "1                0                0                0                1  \n",
       "2                0                0                0                1  \n",
       "3                0                0                0                1  \n",
       "4                0                0                0                1  "
      ]
     },
     "execution_count": 20,
     "metadata": {},
     "output_type": "execute_result"
    }
   ],
   "source": [
    "#data_pred : all numerical data from dataset except Quantity and TotalCost\n",
    "data_pred = data_pred[['cancellation_list','Months', 'Days', 'Hours', 'DayOfMonth',\n",
    "                       'UnitPrice', 'Cluster_Group 1', 'Cluster_Group 2', \n",
    "                       'Cluster_Group 3', 'Cluster_Group 4']]\n",
    "data_pred.head()"
   ]
  },
  {
   "cell_type": "markdown",
   "metadata": {},
   "source": [
    "### 2. Data Splitting"
   ]
  },
  {
   "cell_type": "code",
   "execution_count": 21,
   "metadata": {},
   "outputs": [],
   "source": [
    "#Splitting Feature and Target Variable for data_prep dataset\n",
    "x = data_pred.drop(['cancellation_list'], axis=1)\n",
    "y = data_pred['cancellation_list'].values"
   ]
  },
  {
   "cell_type": "code",
   "execution_count": 22,
   "metadata": {},
   "outputs": [],
   "source": [
    "#Splitting Feature and target variable for data_prep_full dataset\n",
    "x_2 = data_pred_full.drop(['cancellation_list'], axis=1)\n",
    "y_2 = data_pred_full['cancellation_list'].values"
   ]
  },
  {
   "cell_type": "code",
   "execution_count": 23,
   "metadata": {},
   "outputs": [],
   "source": [
    "#Splitting Train and Test data for both data_prep and data_prep dataset\n",
    "from sklearn.model_selection import train_test_split\n",
    "\n",
    "x_train, x_test, y_train, y_test = train_test_split(x, y, test_size=0.2, random_state=0)\n",
    "x_2train, x_2test, y_2train, y_2test = train_test_split(x_2, y_2, test_size=0.2, random_state=0)"
   ]
  },
  {
   "cell_type": "markdown",
   "metadata": {},
   "source": [
    "### 3. Fitting and Predicting Model"
   ]
  },
  {
   "cell_type": "code",
   "execution_count": 24,
   "metadata": {},
   "outputs": [
    {
     "data": {
      "text/plain": [
       "RandomForestClassifier(bootstrap=True, ccp_alpha=0.0, class_weight=None,\n",
       "                       criterion='gini', max_depth=10, max_features='auto',\n",
       "                       max_leaf_nodes=None, max_samples=None,\n",
       "                       min_impurity_decrease=0.0, min_impurity_split=None,\n",
       "                       min_samples_leaf=1, min_samples_split=2,\n",
       "                       min_weight_fraction_leaf=0.0, n_estimators=1000,\n",
       "                       n_jobs=None, oob_score=False, random_state=None,\n",
       "                       verbose=0, warm_start=False)"
      ]
     },
     "execution_count": 24,
     "metadata": {},
     "output_type": "execute_result"
    }
   ],
   "source": [
    "from sklearn.ensemble import RandomForestClassifier\n",
    "from sklearn.linear_model import LogisticRegression\n",
    "\n",
    "#Fitting model with train data from data_prep and data_prep_full\n",
    "model_RF = RandomForestClassifier(n_estimators = 1000, max_depth = 10)\n",
    "model_RF.fit(x_train, y_train)\n",
    "model_RF.fit(x_2train, y_2train)"
   ]
  },
  {
   "cell_type": "code",
   "execution_count": 25,
   "metadata": {},
   "outputs": [],
   "source": [
    "#Predicting Model from data_prep_full\n",
    "y_pred_RF_2 = model_RF.predict(x_2test)"
   ]
  },
  {
   "cell_type": "code",
   "execution_count": 26,
   "metadata": {},
   "outputs": [],
   "source": [
    "#Predicting Model from data_prep\n",
    "model_RF = RandomForestClassifier(n_estimators = 1000, max_depth = 10)\n",
    "model_RF.fit(x_train, y_train)\n",
    "y_pred_RF = model_RF.predict(x_test)"
   ]
  },
  {
   "cell_type": "markdown",
   "metadata": {},
   "source": [
    "### 4. Model Visualization and Evaluation"
   ]
  },
  {
   "cell_type": "code",
   "execution_count": 27,
   "metadata": {},
   "outputs": [
    {
     "data": {
      "image/png": "[encoded data removed]",
      "text/plain": [
       "<Figure size 576x360 with 2 Axes>"
      ]
     },
     "metadata": {
      "needs_background": "light"
     },
     "output_type": "display_data"
    },
    {
     "name": "stdout",
     "output_type": "stream",
     "text": [
      "              precision    recall  f1-score   support\n",
      "\n",
      "           0       0.84      0.99      0.91      3671\n",
      "           1       0.71      0.09      0.16       767\n",
      "\n",
      "    accuracy                           0.84      4438\n",
      "   macro avg       0.77      0.54      0.53      4438\n",
      "weighted avg       0.82      0.84      0.78      4438\n",
      "\n"
     ]
    }
   ],
   "source": [
    "from sklearn.metrics import confusion_matrix\n",
    "from sklearn.metrics import classification_report\n",
    "\n",
    "confusion_matrix(y_test, y_pred_RF) \n",
    "\n",
    "#Visualizing Confusion Matrix\n",
    "f, ax = plt.subplots(figsize=(8,5))\n",
    "sns.heatmap(confusion_matrix(y_test, y_pred_RF), annot=True, fmt=\".0f\", ax=ax)\n",
    "plt.xlabel(\"y Aktual\")\n",
    "plt.ylabel(\"y Prediksi\")\n",
    "plt.title('')\n",
    "plt.show()\n",
    "\n",
    "# Confusion Matrix Report\n",
    "print(classification_report(y_test, y_pred_RF))"
   ]
  },
  {
   "cell_type": "markdown",
   "metadata": {},
   "source": [
    "## Section 4 : Model Optimization\n",
    "here are key points that i done in trying to optimize my model :\n",
    "1. Handling Imbalance Data Using over and under sampling (SMOTE and NearMiss)\n",
    "2. Hyperparameter Tuning Using RandomizedSearchCV"
   ]
  },
  {
   "cell_type": "markdown",
   "metadata": {},
   "source": [
    "### 1. Handling Imbalance 01 : Oversampling using SMOTE for data_prep"
   ]
  },
  {
   "cell_type": "code",
   "execution_count": 28,
   "metadata": {},
   "outputs": [
    {
     "name": "stdout",
     "output_type": "stream",
     "text": [
      "Before OverSampling, counts of label '1': 2887\n",
      "Before OverSampling, counts of label '0': 14865 \n",
      "\n",
      "After OverSampling, the shape of train_X: (29730, 9)\n",
      "After OverSampling, the shape of train_y: (29730,) \n",
      "\n",
      "After OverSampling, counts of label '1': 14865\n",
      "After OverSampling, counts of label '0': 14865\n"
     ]
    }
   ],
   "source": [
    "\n",
    "print(\"Before OverSampling, counts of label '1': {}\".format(sum(y_train == 1))) \n",
    "print(\"Before OverSampling, counts of label '0': {} \\n\".format(sum(y_train == 0))) \n",
    "  \n",
    "# import SMOTE module from imblearn library \n",
    "from imblearn.over_sampling import SMOTE \n",
    "sm = SMOTE(random_state = 2) \n",
    "x_train_res, y_train_res = sm.fit_sample(x_train, y_train.ravel()) \n",
    "  \n",
    "print('After OverSampling, the shape of train_X: {}'.format(x_train_res.shape)) \n",
    "print('After OverSampling, the shape of train_y: {} \\n'.format(y_train_res.shape)) \n",
    "  \n",
    "print(\"After OverSampling, counts of label '1': {}\".format(sum(y_train_res == 1))) \n",
    "print(\"After OverSampling, counts of label '0': {}\".format(sum(y_train_res == 0)))"
   ]
  },
  {
   "cell_type": "code",
   "execution_count": 29,
   "metadata": {
    "scrolled": true
   },
   "outputs": [
    {
     "name": "stdout",
     "output_type": "stream",
     "text": [
      "              precision    recall  f1-score   support\n",
      "\n",
      "           0       0.86      0.89      0.87      3671\n",
      "           1       0.37      0.32      0.34       767\n",
      "\n",
      "    accuracy                           0.79      4438\n",
      "   macro avg       0.62      0.60      0.61      4438\n",
      "weighted avg       0.78      0.79      0.78      4438\n",
      "\n"
     ]
    }
   ],
   "source": [
    "model_RF = RandomForestClassifier()\n",
    "model_RF.fit(x_train_res, y_train_res.ravel())\n",
    "\n",
    "y_pred_RF = model_RF.predict(x_test)\n",
    "\n",
    "# Confusion Matrix Report\n",
    "print(classification_report(y_test, y_pred_RF))"
   ]
  },
  {
   "cell_type": "markdown",
   "metadata": {},
   "source": [
    "### 2. Handling Imbalance 02 : Undersampling using NearMiss for data_prep"
   ]
  },
  {
   "cell_type": "code",
   "execution_count": 30,
   "metadata": {},
   "outputs": [
    {
     "name": "stdout",
     "output_type": "stream",
     "text": [
      "Before Undersampling, counts of label '1': 2887\n",
      "Before Undersampling, counts of label '0': 14865 \n",
      "\n",
      "After Undersampling, the shape of train_X: (5774, 9)\n",
      "After Undersampling, the shape of train_y: (5774,) \n",
      "\n",
      "After Undersampling, counts of label '1': 2887\n",
      "After Undersampling, counts of label '0': 2887\n"
     ]
    }
   ],
   "source": [
    "print(\"Before Undersampling, counts of label '1': {}\".format(sum(y_train == 1))) \n",
    "print(\"Before Undersampling, counts of label '0': {} \\n\".format(sum(y_train == 0))) \n",
    "  \n",
    "# apply near miss \n",
    "from imblearn.under_sampling import NearMiss \n",
    "nr = NearMiss() \n",
    "  \n",
    "X_train_miss, y_train_miss = nr.fit_sample(x_train, y_train.ravel()) \n",
    "  \n",
    "print('After Undersampling, the shape of train_X: {}'.format(X_train_miss.shape)) \n",
    "print('After Undersampling, the shape of train_y: {} \\n'.format(y_train_miss.shape)) \n",
    "  \n",
    "print(\"After Undersampling, counts of label '1': {}\".format(sum(y_train_miss == 1))) \n",
    "print(\"After Undersampling, counts of label '0': {}\".format(sum(y_train_miss == 0)))"
   ]
  },
  {
   "cell_type": "code",
   "execution_count": 31,
   "metadata": {},
   "outputs": [
    {
     "name": "stdout",
     "output_type": "stream",
     "text": [
      "              precision    recall  f1-score   support\n",
      "\n",
      "           0       0.88      0.45      0.60      3671\n",
      "           1       0.21      0.69      0.32       767\n",
      "\n",
      "    accuracy                           0.49      4438\n",
      "   macro avg       0.54      0.57      0.46      4438\n",
      "weighted avg       0.76      0.49      0.55      4438\n",
      "\n"
     ]
    }
   ],
   "source": [
    "model_RF = RandomForestClassifier()\n",
    "model_RF.fit(X_train_miss, y_train_miss.ravel())\n",
    "\n",
    "y_pred_RF = model_RF.predict(x_test)\n",
    "\n",
    "# Confusion Matrix Report\n",
    "print(classification_report(y_test, y_pred_RF))"
   ]
  },
  {
   "cell_type": "markdown",
   "metadata": {},
   "source": [
    "### 3. Hyperparameter Tuning Using RandomizedSearchCV for data_prep"
   ]
  },
  {
   "cell_type": "code",
   "execution_count": 32,
   "metadata": {},
   "outputs": [
    {
     "data": {
      "text/plain": [
       "{'max_depth': [10, 20, 30, 40, 50, 60, 70, 80, 90, 100],\n",
       " 'min_samples_leaf': [1, 2, 4],\n",
       " 'min_samples_split': [2, 5, 10],\n",
       " 'n_estimators': [200, 400, 600, 800, 1000, 1200, 1400, 1600, 1800, 2000]}"
      ]
     },
     "execution_count": 32,
     "metadata": {},
     "output_type": "execute_result"
    }
   ],
   "source": [
    "#Set a parameter combination options for randomizedsearch\n",
    "max_depth = [10,20,30,40,50,60,70,80,90,100]\n",
    "min_samples_leaf = [1,2,4]\n",
    "min_samples_split = [2,5,10]\n",
    "n_estimators = [200,400,600,800,1000,1200,1400,1600,1800,2000]\n",
    "\n",
    "param = {'max_depth': max_depth, 'min_samples_leaf': min_samples_leaf, \n",
    "         'min_samples_split': min_samples_split, 'n_estimators': n_estimators}\n",
    "param"
   ]
  },
  {
   "cell_type": "code",
   "execution_count": 33,
   "metadata": {},
   "outputs": [],
   "source": [
    "from sklearn.model_selection import GridSearchCV, RandomizedSearchCV"
   ]
  },
  {
   "cell_type": "code",
   "execution_count": 34,
   "metadata": {},
   "outputs": [],
   "source": [
    "model_RF = RandomForestClassifier()\n",
    "model_RF_RS = RandomizedSearchCV(estimator=model_RF, param_distributions = param, cv = 5)"
   ]
  },
  {
   "cell_type": "code",
   "execution_count": 35,
   "metadata": {},
   "outputs": [
    {
     "data": {
      "text/plain": [
       "{'n_estimators': 1200,\n",
       " 'min_samples_split': 2,\n",
       " 'min_samples_leaf': 4,\n",
       " 'max_depth': 70}"
      ]
     },
     "execution_count": 35,
     "metadata": {},
     "output_type": "execute_result"
    }
   ],
   "source": [
    "model_RF_RS.fit(x_train, y_train)\n",
    "model_RF_RS.best_params_"
   ]
  },
  {
   "cell_type": "code",
   "execution_count": 36,
   "metadata": {},
   "outputs": [
    {
     "data": {
      "text/plain": [
       "0.8404686795853988"
      ]
     },
     "execution_count": 36,
     "metadata": {},
     "output_type": "execute_result"
    }
   ],
   "source": [
    "model_RF_Baru = RandomForestClassifier(n_estimators=1800, \n",
    "                                       min_samples_split= 10,\n",
    "                                       min_samples_leaf= 2,\n",
    "                                       max_depth= 100)\n",
    "\n",
    "model_RF_Baru.fit(x_train, y_train)\n",
    "model_RF_Baru.score(x_test, y_test)"
   ]
  },
  {
   "cell_type": "markdown",
   "metadata": {},
   "source": [
    "### Model Visualization (Model Selected 01)"
   ]
  },
  {
   "cell_type": "code",
   "execution_count": 37,
   "metadata": {},
   "outputs": [],
   "source": [
    "y_pred_RF = model_RF_Baru.predict(x_test)"
   ]
  },
  {
   "cell_type": "code",
   "execution_count": 38,
   "metadata": {},
   "outputs": [
    {
     "data": {
      "image/png": "[encoded data removed]",
      "text/plain": [
       "<Figure size 576x360 with 2 Axes>"
      ]
     },
     "metadata": {
      "needs_background": "light"
     },
     "output_type": "display_data"
    },
    {
     "name": "stdout",
     "output_type": "stream",
     "text": [
      "              precision    recall  f1-score   support\n",
      "\n",
      "           0       0.85      0.99      0.91      3671\n",
      "           1       0.70      0.13      0.23       767\n",
      "\n",
      "    accuracy                           0.84      4438\n",
      "   macro avg       0.77      0.56      0.57      4438\n",
      "weighted avg       0.82      0.84      0.79      4438\n",
      "\n"
     ]
    }
   ],
   "source": [
    "confusion_matrix(y_test, y_pred_RF) \n",
    "\n",
    "#Visualizing Confusion Matrix\n",
    "f, ax = plt.subplots(figsize=(8,5))\n",
    "sns.heatmap(confusion_matrix(y_test, y_pred_RF), annot=True, fmt=\".0f\", ax=ax)\n",
    "plt.xlabel(\"y Aktual\")\n",
    "plt.ylabel(\"y Prediksi\")\n",
    "plt.title('')\n",
    "plt.show()\n",
    "\n",
    "# Confusion Matrix Report\n",
    "print(classification_report(y_test, y_pred_RF))"
   ]
  },
  {
   "cell_type": "code",
   "execution_count": 39,
   "metadata": {},
   "outputs": [
    {
     "data": {
      "text/plain": [
       "array([[3627,   44],\n",
       "       [ 664,  103]], dtype=int64)"
      ]
     },
     "execution_count": 39,
     "metadata": {},
     "output_type": "execute_result"
    }
   ],
   "source": [
    "confusion_matrix(y_test, y_pred_RF) "
   ]
  },
  {
   "cell_type": "markdown",
   "metadata": {},
   "source": [
    "### 4. Hyperparameter Tuning + Handling Imbalance"
   ]
  },
  {
   "cell_type": "code",
   "execution_count": 40,
   "metadata": {},
   "outputs": [
    {
     "data": {
      "text/plain": [
       "{'n_estimators': 1600,\n",
       " 'min_samples_split': 5,\n",
       " 'min_samples_leaf': 1,\n",
       " 'max_depth': 30}"
      ]
     },
     "execution_count": 40,
     "metadata": {},
     "output_type": "execute_result"
    }
   ],
   "source": [
    "model_RF_RS.fit(x_train_res, y_train_res.ravel())\n",
    "model_RF_RS.best_params_"
   ]
  },
  {
   "cell_type": "code",
   "execution_count": 41,
   "metadata": {},
   "outputs": [
    {
     "data": {
      "text/plain": [
       "0.7929247408742677"
      ]
     },
     "execution_count": 41,
     "metadata": {},
     "output_type": "execute_result"
    }
   ],
   "source": [
    "model_RF_Baru_2 = RandomForestClassifier(n_estimators=400, \n",
    "                                       min_samples_split= 5,\n",
    "                                       min_samples_leaf= 2,\n",
    "                                       max_depth= 40)\n",
    "\n",
    "model_RF_Baru_2.fit(x_train_res, y_train_res.ravel())\n",
    "model_RF_Baru_2.score(x_test, y_test)"
   ]
  },
  {
   "cell_type": "code",
   "execution_count": 42,
   "metadata": {},
   "outputs": [
    {
     "data": {
      "image/png": "[encoded data removed]",
      "text/plain": [
       "<Figure size 576x360 with 2 Axes>"
      ]
     },
     "metadata": {
      "needs_background": "light"
     },
     "output_type": "display_data"
    },
    {
     "name": "stdout",
     "output_type": "stream",
     "text": [
      "              precision    recall  f1-score   support\n",
      "\n",
      "           0       0.86      0.89      0.88      3671\n",
      "           1       0.38      0.33      0.35       767\n",
      "\n",
      "    accuracy                           0.79      4438\n",
      "   macro avg       0.62      0.61      0.61      4438\n",
      "weighted avg       0.78      0.79      0.79      4438\n",
      "\n"
     ]
    }
   ],
   "source": [
    "y_pred_RF = model_RF_Baru_2.predict(x_test)\n",
    "confusion_matrix(y_test, y_pred_RF) \n",
    "\n",
    "#Visualizing Confusion Matrix\n",
    "f, ax = plt.subplots(figsize=(8,5))\n",
    "sns.heatmap(confusion_matrix(y_test, y_pred_RF), annot=True, fmt=\".0f\", ax=ax)\n",
    "plt.xlabel(\"y Aktual\")\n",
    "plt.ylabel(\"y Prediksi\")\n",
    "plt.title('')\n",
    "plt.show()\n",
    "\n",
    "# Confusion Matrix Report\n",
    "print(classification_report(y_test, y_pred_RF))"
   ]
  },
  {
   "cell_type": "markdown",
   "metadata": {},
   "source": [
    "### 5. Model Visualization and evaluation for data_prep"
   ]
  },
  {
   "cell_type": "code",
   "execution_count": 43,
   "metadata": {},
   "outputs": [
    {
     "data": {
      "image/png": "[encoded data removed]",
      "text/plain": [
       "<Figure size 576x360 with 2 Axes>"
      ]
     },
     "metadata": {
      "needs_background": "light"
     },
     "output_type": "display_data"
    },
    {
     "name": "stdout",
     "output_type": "stream",
     "text": [
      "              precision    recall  f1-score   support\n",
      "\n",
      "           0       1.00      1.00      1.00      3671\n",
      "           1       1.00      1.00      1.00       767\n",
      "\n",
      "    accuracy                           1.00      4438\n",
      "   macro avg       1.00      1.00      1.00      4438\n",
      "weighted avg       1.00      1.00      1.00      4438\n",
      "\n"
     ]
    }
   ],
   "source": [
    "confusion_matrix(y_2test, y_pred_RF_2) \n",
    "\n",
    "#Visualizing Confusion Matrix\n",
    "f, ax = plt.subplots(figsize=(8,5))\n",
    "sns.heatmap(confusion_matrix(y_2test, y_pred_RF_2), annot=True, fmt=\".0f\", ax=ax)\n",
    "plt.xlabel(\"y Aktual\")\n",
    "plt.ylabel(\"y Prediksi\")\n",
    "plt.title('')\n",
    "plt.show()\n",
    "\n",
    "# Confusion Matrix Report\n",
    "print(classification_report(y_2test, y_pred_RF_2))"
   ]
  },
  {
   "cell_type": "markdown",
   "metadata": {},
   "source": [
    "### 6. Model Optimization 01 for data_prep : Handling Imbalance data with oversampling using SMOTE"
   ]
  },
  {
   "cell_type": "code",
   "execution_count": 44,
   "metadata": {},
   "outputs": [
    {
     "name": "stdout",
     "output_type": "stream",
     "text": [
      "Before OverSampling, counts of label '1': 2887\n",
      "Before OverSampling, counts of label '0': 14865 \n",
      "\n",
      "After OverSampling, the shape of train_X: (29730, 11)\n",
      "After OverSampling, the shape of train_y: (29730,) \n",
      "\n",
      "After OverSampling, counts of label '1': 14865\n",
      "After OverSampling, counts of label '0': 14865\n"
     ]
    }
   ],
   "source": [
    "print(\"Before OverSampling, counts of label '1': {}\".format(sum(y_train == 1))) \n",
    "print(\"Before OverSampling, counts of label '0': {} \\n\".format(sum(y_train == 0))) \n",
    "  \n",
    "# import SMOTE module from imblearn library \n",
    "from imblearn.over_sampling import SMOTE \n",
    "sm = SMOTE(random_state = 2) \n",
    "x_train_res_2, y_train_res_2 = sm.fit_sample(x_2train, y_2train.ravel()) \n",
    "  \n",
    "print('After OverSampling, the shape of train_X: {}'.format(x_train_res_2.shape)) \n",
    "print('After OverSampling, the shape of train_y: {} \\n'.format(y_train_res_2.shape)) \n",
    "  \n",
    "print(\"After OverSampling, counts of label '1': {}\".format(sum(y_train_res_2 == 1))) \n",
    "print(\"After OverSampling, counts of label '0': {}\".format(sum(y_train_res_2 == 0)))"
   ]
  },
  {
   "cell_type": "code",
   "execution_count": 45,
   "metadata": {},
   "outputs": [
    {
     "name": "stdout",
     "output_type": "stream",
     "text": [
      "              precision    recall  f1-score   support\n",
      "\n",
      "           0       1.00      1.00      1.00      3671\n",
      "           1       1.00      1.00      1.00       767\n",
      "\n",
      "    accuracy                           1.00      4438\n",
      "   macro avg       1.00      1.00      1.00      4438\n",
      "weighted avg       1.00      1.00      1.00      4438\n",
      "\n"
     ]
    }
   ],
   "source": [
    "model_RF = RandomForestClassifier()\n",
    "model_RF.fit(x_train_res_2, y_train_res_2.ravel())\n",
    "\n",
    "y_pred_RF = model_RF.predict(x_2test)\n",
    "\n",
    "# Confusion Matrix Report\n",
    "print(classification_report(y_2test, y_pred_RF))"
   ]
  },
  {
   "cell_type": "markdown",
   "metadata": {},
   "source": [
    "### 7. Model Optimization 02 for data_prep : Handling Imbalance data with undersampling using NearMiss"
   ]
  },
  {
   "cell_type": "code",
   "execution_count": 46,
   "metadata": {
    "scrolled": true
   },
   "outputs": [
    {
     "name": "stdout",
     "output_type": "stream",
     "text": [
      "Before Undersampling, counts of label '1': 2887\n",
      "Before Undersampling, counts of label '0': 14865 \n",
      "\n",
      "After Undersampling, the shape of train_X: (5774, 11)\n",
      "After Undersampling, the shape of train_y: (5774,) \n",
      "\n",
      "After Undersampling, counts of label '1': 2887\n",
      "After Undersampling, counts of label '0': 2887\n"
     ]
    }
   ],
   "source": [
    "print(\"Before Undersampling, counts of label '1': {}\".format(sum(y_train == 1))) \n",
    "print(\"Before Undersampling, counts of label '0': {} \\n\".format(sum(y_train == 0))) \n",
    "  \n",
    "# apply near miss \n",
    "from imblearn.under_sampling import NearMiss \n",
    "nr = NearMiss() \n",
    "  \n",
    "X_train_miss_2, y_train_miss_2 = nr.fit_sample(x_2train, y_2train.ravel()) \n",
    "  \n",
    "print('After Undersampling, the shape of train_X: {}'.format(X_train_miss_2.shape)) \n",
    "print('After Undersampling, the shape of train_y: {} \\n'.format(y_train_miss_2.shape)) \n",
    "  \n",
    "print(\"After Undersampling, counts of label '1': {}\".format(sum(y_train_miss_2 == 1))) \n",
    "print(\"After Undersampling, counts of label '0': {}\".format(sum(y_train_miss_2 == 0)))"
   ]
  },
  {
   "cell_type": "markdown",
   "metadata": {},
   "source": [
    "### Model Optimization 03 for data_prep_full with Cross Validation (hyperparameter) using RandomizedSearchCV"
   ]
  },
  {
   "cell_type": "code",
   "execution_count": 47,
   "metadata": {},
   "outputs": [
    {
     "name": "stdout",
     "output_type": "stream",
     "text": [
      "              precision    recall  f1-score   support\n",
      "\n",
      "           0       1.00      1.00      1.00      3671\n",
      "           1       1.00      1.00      1.00       767\n",
      "\n",
      "    accuracy                           1.00      4438\n",
      "   macro avg       1.00      1.00      1.00      4438\n",
      "weighted avg       1.00      1.00      1.00      4438\n",
      "\n"
     ]
    }
   ],
   "source": [
    "model_RF = RandomForestClassifier()\n",
    "model_RF.fit(X_train_miss_2, y_train_miss_2.ravel())\n",
    "\n",
    "y_pred_RF = model_RF.predict(x_2test)\n",
    "\n",
    "# Confusion Matrix Report\n",
    "print(classification_report(y_2test, y_pred_RF))"
   ]
  },
  {
   "cell_type": "code",
   "execution_count": 48,
   "metadata": {},
   "outputs": [
    {
     "data": {
      "text/plain": [
       "{'n_estimators': 1000,\n",
       " 'min_samples_split': 10,\n",
       " 'min_samples_leaf': 1,\n",
       " 'max_depth': 60}"
      ]
     },
     "execution_count": 48,
     "metadata": {},
     "output_type": "execute_result"
    }
   ],
   "source": [
    "model_RF_RS.fit(x_2train, y_2train)\n",
    "model_RF_RS.best_params_"
   ]
  },
  {
   "cell_type": "code",
   "execution_count": 49,
   "metadata": {},
   "outputs": [
    {
     "data": {
      "text/plain": [
       "1.0"
      ]
     },
     "execution_count": 49,
     "metadata": {},
     "output_type": "execute_result"
    }
   ],
   "source": [
    "model_RF_Baru = RandomForestClassifier(n_estimators=1600, \n",
    "                                       min_samples_split= 5,\n",
    "                                       min_samples_leaf= 1,\n",
    "                                       max_depth= 30)\n",
    "\n",
    "model_RF_Baru.fit(x_2train, y_2train)\n",
    "model_RF_Baru.score(x_2test, y_2test)"
   ]
  },
  {
   "cell_type": "markdown",
   "metadata": {},
   "source": [
    "## Model Visualization and Evaluation (MODEL SELECTED 02)"
   ]
  },
  {
   "cell_type": "code",
   "execution_count": 50,
   "metadata": {
    "scrolled": false
   },
   "outputs": [
    {
     "data": {
      "image/png": "[encoded data removed]",
      "text/plain": [
       "<Figure size 576x360 with 2 Axes>"
      ]
     },
     "metadata": {
      "needs_background": "light"
     },
     "output_type": "display_data"
    },
    {
     "name": "stdout",
     "output_type": "stream",
     "text": [
      "              precision    recall  f1-score   support\n",
      "\n",
      "           0       1.00      1.00      1.00      3671\n",
      "           1       1.00      1.00      1.00       767\n",
      "\n",
      "    accuracy                           1.00      4438\n",
      "   macro avg       1.00      1.00      1.00      4438\n",
      "weighted avg       1.00      1.00      1.00      4438\n",
      "\n"
     ]
    }
   ],
   "source": [
    "y_pred_RF = model_RF_Baru.predict(x_2test)\n",
    "confusion_matrix(y_2test, y_pred_RF) \n",
    "\n",
    "#Visualizing Confusion Matrix\n",
    "f, ax = plt.subplots(figsize=(8,5))\n",
    "sns.heatmap(confusion_matrix(y_2test, y_pred_RF), annot=True, fmt=\".0f\", ax=ax)\n",
    "plt.xlabel(\"y Aktual\")\n",
    "plt.ylabel(\"y Prediksi\")\n",
    "plt.title('')\n",
    "plt.show()\n",
    "\n",
    "# Confusion Matrix Report\n",
    "print(classification_report(y_2test, y_pred_RF))"
   ]
  },
  {
   "cell_type": "code",
   "execution_count": 51,
   "metadata": {},
   "outputs": [
    {
     "data": {
      "text/plain": [
       "array([[3671,    0],\n",
       "       [   0,  767]], dtype=int64)"
      ]
     },
     "execution_count": 51,
     "metadata": {},
     "output_type": "execute_result"
    }
   ],
   "source": [
    "confusion_matrix(y_2test, y_pred_RF)"
   ]
  },
  {
   "cell_type": "code",
   "execution_count": 52,
   "metadata": {},
   "outputs": [
    {
     "data": {
      "image/png": "[encoded data removed]",
      "text/plain": [
       "<Figure size 576x360 with 2 Axes>"
      ]
     },
     "metadata": {
      "needs_background": "light"
     },
     "output_type": "display_data"
    },
    {
     "name": "stdout",
     "output_type": "stream",
     "text": [
      "              precision    recall  f1-score   support\n",
      "\n",
      "           0       1.00      1.00      1.00      3671\n",
      "           1       1.00      1.00      1.00       767\n",
      "\n",
      "    accuracy                           1.00      4438\n",
      "   macro avg       1.00      1.00      1.00      4438\n",
      "weighted avg       1.00      1.00      1.00      4438\n",
      "\n"
     ]
    }
   ],
   "source": [
    "y_pred_RF = model_RF_Baru.predict(x_2test)\n",
    "confusion_matrix(y_2test, y_pred_RF) \n",
    "\n",
    "#Visualizing Confusion Matrix\n",
    "f, ax = plt.subplots(figsize=(8,5))\n",
    "sns.heatmap(confusion_matrix(y_2test, y_pred_RF), annot=True, fmt=\".0f\", ax=ax)\n",
    "plt.xlabel(\"y Aktual\")\n",
    "plt.ylabel(\"y Prediksi\")\n",
    "plt.title('')\n",
    "plt.show()\n",
    "\n",
    "# Confusion Matrix Report\n",
    "print(classification_report(y_2test, y_pred_RF))"
   ]
  },
  {
   "cell_type": "markdown",
   "metadata": {},
   "source": [
    "### Saving Model Using Joblib for DASHBOARD"
   ]
  },
  {
   "cell_type": "code",
   "execution_count": 55,
   "metadata": {
    "scrolled": false
   },
   "outputs": [
    {
     "data": {
      "text/plain": [
       "['model_final_1']"
      ]
     },
     "execution_count": 55,
     "metadata": {},
     "output_type": "execute_result"
    }
   ],
   "source": [
    "import joblib\n",
    "joblib.dump(model_RF_Baru, 'model_final_1')"
   ]
  },
  {
   "cell_type": "code",
   "execution_count": 56,
   "metadata": {},
   "outputs": [],
   "source": [
    "model_final = joblib.load('model_final_1')"
   ]
  },
  {
   "cell_type": "code",
   "execution_count": null,
   "metadata": {},
   "outputs": [],
   "source": []
  }
 ],
 "metadata": {
  "kernelspec": {
   "display_name": "Python 3",
   "language": "python",
   "name": "python3"
  },
  "language_info": {
   "codemirror_mode": {
    "name": "ipython",
    "version": 3
   },
   "file_extension": ".py",
   "mimetype": "text/x-python",
   "name": "python",
   "nbconvert_exporter": "python",
   "pygments_lexer": "ipython3",
   "version": "3.7.4"
  }
 },
 "nbformat": 4,
 "nbformat_minor": 2
}
